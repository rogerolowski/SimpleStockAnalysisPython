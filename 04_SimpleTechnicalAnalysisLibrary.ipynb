{
  "cells": [
    {
      "cell_type": "markdown",
      "metadata": {},
      "source": [
        "# List Technical Analysis Library"
      ]
    },
    {
      "cell_type": "markdown",
      "metadata": {},
      "source": [
        "Here the list of technical analysis library. It is very simple to use and you do not need to write on your own when you can use these libraries.\n",
        "\n",
        "Thank you for these people that wrote the library for people to use."
      ]
    },
    {
      "cell_type": "markdown",
      "metadata": {},
      "source": [
        "## 1. ta-lib \n",
        "Most common library for Technical Analysis\n",
        "\n",
        "http://mrjbq7.github.io/ta-lib/\n",
        "\n",
        "https://github.com/mrjbq7/ta-lib"
      ]
    },
    {
      "cell_type": "markdown",
      "metadata": {},
      "source": [
        "## 2. ta (Technical Analysis Library in Python)\n",
        "\n",
        "https://github.com/bukosabino/ta\n",
        "\n",
        "https://technical-analysis-library-in-python.readthedocs.io/en/latest/"
      ]
    },
    {
      "cell_type": "markdown",
      "metadata": {},
      "source": [
        "## 3. pyti\n",
        "\n",
        "https://github.com/kylejusticemagnuson/pyti"
      ]
    },
    {
      "cell_type": "markdown",
      "metadata": {},
      "source": [
        "## 4. finta FinTA (Financial Technical Analysis)\n",
        "\n",
        "https://github.com/peerchemist/finta"
      ]
    },
    {
      "cell_type": "markdown",
      "metadata": {},
      "source": [
        "## 5. stockstats\n",
        "\n",
        "https://github.com/jealous/stockstats"
      ]
    },
    {
      "cell_type": "markdown",
      "metadata": {},
      "source": [
        "There are more libraries out there but these five libraries have the most stars and many people use them. Other libraries, people still working on it or is a fail library.\n",
        "\n",
        "If there are more libraries out there and is a pass, I will add more."
      ]
    }
  ],
  "metadata": {
    "interpreter": {
      "hash": "63fd5069d213b44bf678585dea6b12cceca9941eaf7f819626cde1f2670de90d"
    },
    "kernel_info": {
      "name": "python3"
    },
    "kernelspec": {
      "display_name": "Python 3.9.7 64-bit",
      "name": "python3"
    },
    "language_info": {
      "codemirror_mode": {
        "name": "ipython",
        "version": 3
      },
      "file_extension": ".py",
      "mimetype": "text/x-python",
      "name": "python",
      "nbconvert_exporter": "python",
      "pygments_lexer": "ipython3",
      "version": "3.9.7"
    },
    "nteract": {
      "version": "0.12.2"
    }
  },
  "nbformat": 4,
  "nbformat_minor": 4
}
